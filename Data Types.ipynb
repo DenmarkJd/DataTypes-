{
 "cells": [
  {
   "cell_type": "code",
   "execution_count": 1,
   "id": "612905f5-985c-4fe3-897b-668041b5d683",
   "metadata": {},
   "outputs": [
    {
     "data": {
      "text/plain": [
       "100000"
      ]
     },
     "execution_count": 1,
     "metadata": {},
     "output_type": "execute_result"
    }
   ],
   "source": [
    "100000"
   ]
  },
  {
   "cell_type": "code",
   "execution_count": 2,
   "id": "7db2abd8-1064-47b1-a2c9-e1e2e3f5f2c8",
   "metadata": {},
   "outputs": [
    {
     "data": {
      "text/plain": [
       "1000000"
      ]
     },
     "execution_count": 2,
     "metadata": {},
     "output_type": "execute_result"
    }
   ],
   "source": [
    "10*100000"
   ]
  },
  {
   "cell_type": "markdown",
   "id": "803d9742-5d34-445f-aa91-4038b620db76",
   "metadata": {},
   "source": [
    "# Variable "
   ]
  },
  {
   "cell_type": "code",
   "execution_count": 3,
   "id": "1c9a541a-93fc-433c-9b37-931cc3b08fdd",
   "metadata": {},
   "outputs": [],
   "source": [
    "a = 10 "
   ]
  },
  {
   "cell_type": "code",
   "execution_count": 4,
   "id": "d0ad43a1-0cfd-4243-bb6b-848bf1697991",
   "metadata": {},
   "outputs": [
    {
     "name": "stdout",
     "output_type": "stream",
     "text": [
      "10\n"
     ]
    }
   ],
   "source": [
    "print(a)"
   ]
  },
  {
   "cell_type": "code",
   "execution_count": 5,
   "id": "60429552-37bc-46af-b4ec-4176e1c4e08f",
   "metadata": {},
   "outputs": [],
   "source": [
    "b =a*a"
   ]
  },
  {
   "cell_type": "code",
   "execution_count": 6,
   "id": "e2e758ba-e405-4319-b519-50c12cbd69c8",
   "metadata": {},
   "outputs": [
    {
     "name": "stdout",
     "output_type": "stream",
     "text": [
      "100\n"
     ]
    }
   ],
   "source": [
    "print(b)"
   ]
  },
  {
   "cell_type": "markdown",
   "id": "c7cbcaf3-f97b-44aa-b24b-fa86c5d8e51e",
   "metadata": {},
   "source": [
    "# Data types "
   ]
  },
  {
   "cell_type": "markdown",
   "id": "b5a26ef3-d793-4a7a-bf30-29690c244dbe",
   "metadata": {},
   "source": [
    "## Integer & Float "
   ]
  },
  {
   "cell_type": "code",
   "execution_count": 7,
   "id": "d158577b-9d6f-4d3a-962e-031c681f4b90",
   "metadata": {},
   "outputs": [],
   "source": [
    "a = 1000"
   ]
  },
  {
   "cell_type": "code",
   "execution_count": 8,
   "id": "6fa2296e-c597-4e1a-bf92-edd19fae6c98",
   "metadata": {},
   "outputs": [
    {
     "name": "stdout",
     "output_type": "stream",
     "text": [
      "1000\n"
     ]
    }
   ],
   "source": [
    "print(a)"
   ]
  },
  {
   "cell_type": "code",
   "execution_count": 11,
   "id": "2745e626-f8d2-4569-93a3-a9e8fe86fad1",
   "metadata": {},
   "outputs": [],
   "source": [
    "b = 1.3"
   ]
  },
  {
   "cell_type": "code",
   "execution_count": 12,
   "id": "db74e954-6af4-4720-9d1e-cca57627ed82",
   "metadata": {},
   "outputs": [
    {
     "name": "stdout",
     "output_type": "stream",
     "text": [
      "1.3\n"
     ]
    }
   ],
   "source": [
    "print(b)"
   ]
  },
  {
   "cell_type": "markdown",
   "id": "972996e2-9f15-4648-8183-7553252d3691",
   "metadata": {},
   "source": [
    "## String "
   ]
  },
  {
   "cell_type": "code",
   "execution_count": 13,
   "id": "5147996c-be70-44d5-9c16-f37f2ad3a726",
   "metadata": {},
   "outputs": [],
   "source": [
    "c = \"My name is Junaid\""
   ]
  },
  {
   "cell_type": "code",
   "execution_count": 14,
   "id": "00e28db0-68a8-43b5-ab12-9cc6de98e663",
   "metadata": {},
   "outputs": [
    {
     "name": "stdout",
     "output_type": "stream",
     "text": [
      "My name is Junaid\n"
     ]
    }
   ],
   "source": [
    "print(c)"
   ]
  },
  {
   "cell_type": "code",
   "execution_count": 15,
   "id": "b0170521-639e-42a3-b0f7-c941b2e0c508",
   "metadata": {},
   "outputs": [],
   "source": [
    "d = \"20\""
   ]
  },
  {
   "cell_type": "code",
   "execution_count": 18,
   "id": "91a43f5a-f3ce-4263-a79b-f4ee0f9fe8ff",
   "metadata": {},
   "outputs": [
    {
     "name": "stdout",
     "output_type": "stream",
     "text": [
      "MJ\n"
     ]
    }
   ],
   "source": [
    "x = \"M\"\n",
    "y = \"J\"\n",
    "z = x+y \n",
    "print(z)"
   ]
  },
  {
   "cell_type": "code",
   "execution_count": 19,
   "id": "a7f944b8-f555-40ac-b749-8a42d55e4f61",
   "metadata": {},
   "outputs": [
    {
     "name": "stdout",
     "output_type": "stream",
     "text": [
      "30\n"
     ]
    }
   ],
   "source": [
    "x = 10\n",
    "y = 20\n",
    "z = x+y \n",
    "print(z)"
   ]
  },
  {
   "cell_type": "code",
   "execution_count": 20,
   "id": "3c0cb9af-b204-45ed-8c6f-ceae126b68e5",
   "metadata": {},
   "outputs": [
    {
     "name": "stdout",
     "output_type": "stream",
     "text": [
      "13.0\n"
     ]
    }
   ],
   "source": [
    "x = 10.7\n",
    "y = 2.3\n",
    "z = x+y \n",
    "print(z)"
   ]
  },
  {
   "cell_type": "markdown",
   "id": "c6e2d967-ab23-4bba-ad85-4a2f85af668e",
   "metadata": {},
   "source": [
    "### Addition, subtraction, Multiplication & Division"
   ]
  },
  {
   "cell_type": "code",
   "execution_count": 21,
   "id": "ee0d09d8-8585-48ef-becd-90e997c1b7f9",
   "metadata": {},
   "outputs": [
    {
     "name": "stdout",
     "output_type": "stream",
     "text": [
      "30\n"
     ]
    }
   ],
   "source": [
    "x = 10 \n",
    "y = 20 \n",
    "z = x+y \n",
    "print(z)"
   ]
  },
  {
   "cell_type": "code",
   "execution_count": 22,
   "id": "9d24958a-f6fe-45cf-9f8b-0cc9d8237b37",
   "metadata": {},
   "outputs": [
    {
     "name": "stdout",
     "output_type": "stream",
     "text": [
      "-10\n"
     ]
    }
   ],
   "source": [
    "x = 10 \n",
    "y = 20 \n",
    "z = x-y \n",
    "print(z)"
   ]
  },
  {
   "cell_type": "code",
   "execution_count": 23,
   "id": "7c5d98b1-cc7e-48e9-bc94-a0a3ccfc4be7",
   "metadata": {},
   "outputs": [
    {
     "name": "stdout",
     "output_type": "stream",
     "text": [
      "200\n"
     ]
    }
   ],
   "source": [
    "x = 10 \n",
    "y = 20 \n",
    "z = x*y \n",
    "print(z)"
   ]
  },
  {
   "cell_type": "code",
   "execution_count": 24,
   "id": "4a2107f5-9605-4a14-8dda-51d1c2af1ab6",
   "metadata": {},
   "outputs": [
    {
     "name": "stdout",
     "output_type": "stream",
     "text": [
      "0.5\n"
     ]
    }
   ],
   "source": [
    "x = 10 \n",
    "y = 20 \n",
    "z = x/y \n",
    "print(z)"
   ]
  },
  {
   "cell_type": "code",
   "execution_count": 27,
   "id": "3a468599-fda7-4455-879f-5a1059e550ad",
   "metadata": {},
   "outputs": [
    {
     "name": "stdout",
     "output_type": "stream",
     "text": [
      "16\n"
     ]
    }
   ],
   "source": [
    "a = 4 \n",
    "b = a**2\n",
    "print(b)"
   ]
  },
  {
   "cell_type": "code",
   "execution_count": 28,
   "id": "1d8fb918-35b3-4b64-b01a-76f40eafafa2",
   "metadata": {},
   "outputs": [
    {
     "name": "stdout",
     "output_type": "stream",
     "text": [
      "1\n"
     ]
    }
   ],
   "source": [
    "a = 3%2\n",
    "print(a)"
   ]
  },
  {
   "cell_type": "code",
   "execution_count": null,
   "id": "5d7d9665-0662-4504-974b-e6217ddc620a",
   "metadata": {},
   "outputs": [],
   "source": []
  }
 ],
 "metadata": {
  "kernelspec": {
   "display_name": "Python 3 (ipykernel)",
   "language": "python",
   "name": "python3"
  },
  "language_info": {
   "codemirror_mode": {
    "name": "ipython",
    "version": 3
   },
   "file_extension": ".py",
   "mimetype": "text/x-python",
   "name": "python",
   "nbconvert_exporter": "python",
   "pygments_lexer": "ipython3",
   "version": "3.12.7"
  }
 },
 "nbformat": 4,
 "nbformat_minor": 5
}
